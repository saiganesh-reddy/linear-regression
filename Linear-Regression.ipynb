{
 "cells": [
  {
   "cell_type": "code",
   "execution_count": 1,
   "metadata": {},
   "outputs": [],
   "source": [
    "# Importing libraries\n",
    "\n",
    "import numpy as np\n",
    "\n",
    "import pandas as pd\n",
    "\n",
    "from sklearn.model_selection import train_test_split\n",
    "\n",
    "import matplotlib.pyplot as plt\n",
    "\n",
    "import warnings\n",
    "\n",
    "warnings.filterwarnings(\"ignore\")"
   ]
  },
  {
   "cell_type": "code",
   "execution_count": 2,
   "metadata": {},
   "outputs": [],
   "source": [
    "# Linear Regression\n",
    "\n",
    "class LinearRegression() :\n",
    "    \n",
    "    def __init__( self, learning_rate, iterations ) :\n",
    "        \n",
    "        self.learning_rate = learning_rate\n",
    "        \n",
    "        self.iterations = iterations\n",
    "        \n",
    "    # Function for model training\n",
    "            \n",
    "    def fit( self, X, Y ) :\n",
    "        \n",
    "        # no_of_training_examples, no_of_features\n",
    "        \n",
    "        self.m, self.n = X.shape\n",
    "        \n",
    "        # weight initialization\n",
    "        \n",
    "        self.W = np.zeros( self.n )\n",
    "        \n",
    "        self.b = 0\n",
    "        \n",
    "        self.X = X\n",
    "        \n",
    "        self.Y = Y\n",
    "        \n",
    "        \n",
    "        # gradient descent learning\n",
    "                \n",
    "        for i in range( self.iterations ) :\n",
    "            \n",
    "            self.update_weights()\n",
    "            \n",
    "        return self\n",
    "    \n",
    "    # Helper function to update weights in gradient descent\n",
    "    \n",
    "    def update_weights( self ) :\n",
    "           \n",
    "        Y_pred = self.predict( self.X )\n",
    "        \n",
    "        # calculate gradients  \n",
    "    \n",
    "        dW = - ( 2 * ( self.X.T ).dot( self.Y - Y_pred )  ) / self.m\n",
    "     \n",
    "        db = - 2 * np.sum( self.Y - Y_pred ) / self.m \n",
    "        \n",
    "        # update weights\n",
    "    \n",
    "        self.W = self.W - self.learning_rate * dW\n",
    "    \n",
    "        self.b = self.b - self.learning_rate * db\n",
    "        \n",
    "        return self\n",
    "    \n",
    "    # Hypothetical function  h( x ) \n",
    "    \n",
    "    def predict( self, X ) :\n",
    "    \n",
    "        return X.dot( self.W ) + self.b"
   ]
  },
  {
   "cell_type": "code",
   "execution_count": 3,
   "metadata": {},
   "outputs": [],
   "source": [
    "# driver code\n",
    "\n",
    "def main() :\n",
    "    \n",
    "    # Importing dataset\n",
    "    \n",
    "    df = pd.read_csv( \"salary_data.csv\" )\n",
    "\n",
    "    X = df.iloc[:,:-1].values\n",
    "\n",
    "    Y = df.iloc[:,1].values\n",
    "    \n",
    "    # Splitting dataset into train and test set\n",
    "\n",
    "    X_train, X_test, Y_train, Y_test = train_test_split( X, Y, test_size = 1/3, random_state = 0 )\n",
    "    \n",
    "    # Model training\n",
    "    \n",
    "    model = LinearRegression( iterations = 1000, learning_rate = 0.01 )\n",
    "\n",
    "    model.fit( X_train, Y_train )\n",
    "    \n",
    "    # Prediction on test set\n",
    "\n",
    "    Y_pred = model.predict( X_test )\n",
    "    \n",
    "    print( \"Predicted values \", np.round( Y_pred[:3], 2 ) ) \n",
    "    \n",
    "    print( \"Real values      \", Y_test[:3] )\n",
    "    \n",
    "    print( \"Trained W        \", round( model.W[0], 2 ) )\n",
    "    \n",
    "    print( \"Trained b        \", round( model.b, 2 ) )"
   ]
  },
  {
   "cell_type": "code",
   "execution_count": 4,
   "metadata": {},
   "outputs": [
    {
     "name": "stdout",
     "output_type": "stream",
     "text": [
      "Predicted values  [ 40594.69 123305.18  65031.88]\n",
      "Real values       [ 37731 122391  57081]\n",
      "Trained W         9398.92\n",
      "Trained b         26496.31\n"
     ]
    }
   ],
   "source": [
    "if __name__ == \"__main__\" : \n",
    "    \n",
    "    main()"
   ]
  }
 ],
 "metadata": {
  "kernelspec": {
   "display_name": "Python 3",
   "language": "python",
   "name": "python3"
  },
  "language_info": {
   "codemirror_mode": {
    "name": "ipython",
    "version": 3
   },
   "file_extension": ".py",
   "mimetype": "text/x-python",
   "name": "python",
   "nbconvert_exporter": "python",
   "pygments_lexer": "ipython3",
   "version": "3.7.6"
  }
 },
 "nbformat": 4,
 "nbformat_minor": 4
}
